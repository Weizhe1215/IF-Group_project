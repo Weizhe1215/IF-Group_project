{
 "cells": [
  {
   "cell_type": "code",
   "execution_count": 1,
   "metadata": {
    "collapsed": true,
    "pycharm": {
     "name": "#%%\n"
    }
   },
   "outputs": [],
   "source": [
    "import pandas as pd\n",
    "import numpy as np\n",
    "import matplotlib.pyplot as plt\n",
    "import seaborn as sns\n",
    "import wbgapi as wb"
   ]
  },
  {
   "cell_type": "markdown",
   "source": [
    "# Clean the Given data"
   ],
   "metadata": {
    "collapsed": false,
    "pycharm": {
     "name": "#%% md\n"
    }
   }
  },
  {
   "cell_type": "code",
   "execution_count": 2,
   "outputs": [],
   "source": [
    "# Read the original data to python\n",
    "data = pd.read_csv('homework_group_1-tidy.csv')"
   ],
   "metadata": {
    "collapsed": false,
    "pycharm": {
     "name": "#%%\n"
    }
   }
  },
  {
   "cell_type": "code",
   "execution_count": 3,
   "outputs": [],
   "source": [
    "# If the country column is China.Hong.Kong,then change to Hong kong\n",
    "## the match of hongkong is not correct, change the name to Hong Kong\n",
    "data['country'] = np.where(data['country'] == 'China.Hong.Kong', 'Hong Kong',data['country'])"
   ],
   "metadata": {
    "collapsed": false,
    "pycharm": {
     "name": "#%%\n"
    }
   }
  },
  {
   "cell_type": "code",
   "execution_count": 4,
   "outputs": [],
   "source": [
    "# Get the list of countries and use WBG matcher to match the country codes\n",
    "countries = list(data['country'].unique())\n",
    "country_code = wb.economy.coder(countries)\n",
    "country_code = pd.DataFrame(country_code,index=[0])"
   ],
   "metadata": {
    "collapsed": false,
    "pycharm": {
     "name": "#%%\n"
    }
   }
  },
  {
   "cell_type": "code",
   "execution_count": 5,
   "outputs": [],
   "source": [
    "# convert the country_code from row to column\n",
    "country_code = country_code.transpose()\n",
    "country_code = country_code.reset_index()\n",
    "country_code = country_code.rename(columns={'index': 'country',0:'country code'})"
   ],
   "metadata": {
    "collapsed": false,
    "pycharm": {
     "name": "#%%\n"
    }
   }
  },
  {
   "cell_type": "code",
   "execution_count": 6,
   "outputs": [],
   "source": [
    "# merge back to the original data\n",
    "data = pd.merge(data,country_code,on='country')"
   ],
   "metadata": {
    "collapsed": false,
    "pycharm": {
     "name": "#%%\n"
    }
   }
  },
  {
   "cell_type": "code",
   "execution_count": 7,
   "outputs": [],
   "source": [
    "# Seperate the year from the date\n",
    "data['year'] = data['date'].apply(lambda x: x.split('-')[0])"
   ],
   "metadata": {
    "collapsed": false,
    "pycharm": {
     "name": "#%%\n"
    }
   }
  },
  {
   "cell_type": "markdown",
   "source": [
    "# Get and clean the GDP data"
   ],
   "metadata": {
    "collapsed": false,
    "pycharm": {
     "name": "#%% md\n"
    }
   }
  },
  {
   "cell_type": "code",
   "execution_count": 8,
   "outputs": [
    {
     "data": {
      "text/plain": "========\nSeries: NY.GDP.PCAP.CD, GDP per capita (current US$)\n\nIndicatorName: GDP per capita (current US$)\n--------\nLongdefinition: ...GDP per capita is gross domestic product divided by midyear population. GDP is the sum of...\n========\nSeries: NY.GDP.PCAP.CN, GDP per capita (current LCU)\n\nIndicatorName: GDP per capita (current LCU)\n--------\nLongdefinition: ...GDP per capita is gross domestic product divided by midyear population. GDP is the sum of...\n========\nSeries: NY.GDP.PCAP.KD, GDP per capita (constant 2015 US$)\n\nIndicatorName: GDP per capita (constant 2015 US$)\n--------\nLongdefinition: ...GDP per capita is gross domestic product divided by midyear population. GDP is the sum of...\n========\nSeries: NY.GDP.PCAP.KD.ZG, GDP per capita growth (annual %)\n\nIndicatorName: GDP per capita growth (annual %)\n--------\nLongdefinition: ...Annual percentage growth rate of GDP per capita based on constant local currency. GDP per capita is gross domestic product...\n========\nSeries: NY.GDP.PCAP.KN, GDP per capita (constant LCU)\n\nIndicatorName: GDP per capita (constant LCU)\n--------\nLongdefinition: ...GDP per capita is gross domestic product divided by midyear population. GDP at purchaser's...\n========\nSeries: NY.GDP.PCAP.PP.CD, GDP per capita, PPP (current international $)\n\nIndicatorName: GDP per capita, PPP (current international $)\n========\nSeries: NY.GDP.PCAP.PP.KD, GDP per capita, PPP (constant 2017 international $)\n\nIndicatorName: GDP per capita, PPP (constant 2017 international $)\n--------\nLongdefinition: ...GDP per capita based on purchasing power parity (PPP). PPP GDP is gross domestic product...\n========\nSeries: PA.NUS.PPP, PPP conversion factor, GDP (LCU per international $)\n\nDevelopmentrelevance: ...of PPPs with limitations  include: To analyze changes over time in relative GDP per capita and relative prices | To analyze price convergence | To make spatial...\n========\nSeries: PA.NUS.PRVT.PP, PPP conversion factor, private consumption (LCU per international $)\n\nDevelopmentrelevance: ...of PPPs with limitations  include: To analyze changes over time in relative GDP per capita and relative prices | To analyze price convergence | To make spatial...\n========\nSeries: SE.XPD.PRIM.PC.ZS, Government expenditure per student, primary (% of GDP per capita)\n\nIndicatorName: Government expenditure per student, primary (% of GDP per capita)\n--------\nLongdefinition: ... per student in the given level of education, expressed as a percentage of GDP per capita....\n--------\nStatisticalconceptandmethodology: ...by the number of students at primary level, expressed as a percentage of GDP per capita. Aggregate data are World Bank estimates....\n========\nSeries: SE.XPD.SECO.PC.ZS, Government expenditure per student, secondary (% of GDP per capita)\n\nIndicatorName: Government expenditure per student, secondary (% of GDP per capita)\n--------\nLongdefinition: ... per student in the given level of education, expressed as a percentage of GDP per capita....\n--------\nStatisticalconceptandmethodology: ...by the number of students at secondary level, expressed as a percentage of GDP per capita. Aggregate data are World Bank estimates....\n========\nSeries: SE.XPD.TERT.PC.ZS, Government expenditure per student, tertiary (% of GDP per capita)\n\nIndicatorName: Government expenditure per student, tertiary (% of GDP per capita)\n--------\nLongdefinition: ... per student in the given level of education, expressed as a percentage of GDP per capita....\n--------\nStatisticalconceptandmethodology: ...by the number of students at tertiary level, expressed as a percentage of GDP per capita. Aggregate data are World Bank estimates....\n========\nSeries: SE.XPD.TOTL.PC.ZS, Expenditure per student, total (% of GDP per capita)\n\nIndicatorName: Expenditure per student, total (% of GDP per capita)\n--------\nLongdefinition: ...on education divided by the total number of students, as a percentage of GDP per capita. Public expenditure (current and capital) includes government spending on...",
      "text/html": "<div class=\"wbgapi\"><h4>Series</h4><table>\n<thead>\n<tr><th>ID               </th><th>Name                                                                </th><th>Field                           </th><th>Value                                                                                                                                                                  </th></tr>\n</thead>\n<tbody>\n<tr><td>NY.GDP.PCAP.CD   </td><td>GDP per capita (current US$)                                        </td><td>IndicatorName                   </td><td>GDP per capita (current US$)                                                                                                                                           </td></tr>\n<tr><td>NY.GDP.PCAP.CD   </td><td>GDP per capita (current US$)                                        </td><td>Longdefinition                  </td><td>...GDP per capita is gross domestic product divided by midyear population. GDP is the sum of...                                                                        </td></tr>\n<tr><td>NY.GDP.PCAP.CN   </td><td>GDP per capita (current LCU)                                        </td><td>IndicatorName                   </td><td>GDP per capita (current LCU)                                                                                                                                           </td></tr>\n<tr><td>NY.GDP.PCAP.CN   </td><td>GDP per capita (current LCU)                                        </td><td>Longdefinition                  </td><td>...GDP per capita is gross domestic product divided by midyear population. GDP is the sum of...                                                                        </td></tr>\n<tr><td>NY.GDP.PCAP.KD   </td><td>GDP per capita (constant 2015 US$)                                  </td><td>IndicatorName                   </td><td>GDP per capita (constant 2015 US$)                                                                                                                                     </td></tr>\n<tr><td>NY.GDP.PCAP.KD   </td><td>GDP per capita (constant 2015 US$)                                  </td><td>Longdefinition                  </td><td>...GDP per capita is gross domestic product divided by midyear population. GDP is the sum of...                                                                        </td></tr>\n<tr><td>NY.GDP.PCAP.KD.ZG</td><td>GDP per capita growth (annual %)                                    </td><td>IndicatorName                   </td><td>GDP per capita growth (annual %)                                                                                                                                       </td></tr>\n<tr><td>NY.GDP.PCAP.KD.ZG</td><td>GDP per capita growth (annual %)                                    </td><td>Longdefinition                  </td><td>...Annual percentage growth rate of GDP per capita based on constant local currency. GDP per capita is gross domestic product...                                       </td></tr>\n<tr><td>NY.GDP.PCAP.KN   </td><td>GDP per capita (constant LCU)                                       </td><td>IndicatorName                   </td><td>GDP per capita (constant LCU)                                                                                                                                          </td></tr>\n<tr><td>NY.GDP.PCAP.KN   </td><td>GDP per capita (constant LCU)                                       </td><td>Longdefinition                  </td><td>...GDP per capita is gross domestic product divided by midyear population. GDP at purchaser&#x27;s...                                                                       </td></tr>\n<tr><td>NY.GDP.PCAP.PP.CD</td><td>GDP per capita, PPP (current international $)                       </td><td>IndicatorName                   </td><td>GDP per capita, PPP (current international $)                                                                                                                          </td></tr>\n<tr><td>NY.GDP.PCAP.PP.KD</td><td>GDP per capita, PPP (constant 2017 international $)                 </td><td>IndicatorName                   </td><td>GDP per capita, PPP (constant 2017 international $)                                                                                                                    </td></tr>\n<tr><td>NY.GDP.PCAP.PP.KD</td><td>GDP per capita, PPP (constant 2017 international $)                 </td><td>Longdefinition                  </td><td>...GDP per capita based on purchasing power parity (PPP). PPP GDP is gross domestic product...                                                                         </td></tr>\n<tr><td>PA.NUS.PPP       </td><td>PPP conversion factor, GDP (LCU per international $)                </td><td>Developmentrelevance            </td><td>...of PPPs with limitations  include: To analyze changes over time in relative GDP per capita and relative prices | To analyze price convergence | To make spatial...  </td></tr>\n<tr><td>PA.NUS.PRVT.PP   </td><td>PPP conversion factor, private consumption (LCU per international $)</td><td>Developmentrelevance            </td><td>...of PPPs with limitations  include: To analyze changes over time in relative GDP per capita and relative prices | To analyze price convergence | To make spatial...  </td></tr>\n<tr><td>SE.XPD.PRIM.PC.ZS</td><td>Government expenditure per student, primary (% of GDP per capita)   </td><td>IndicatorName                   </td><td>Government expenditure per student, primary (% of GDP per capita)                                                                                                      </td></tr>\n<tr><td>SE.XPD.PRIM.PC.ZS</td><td>Government expenditure per student, primary (% of GDP per capita)   </td><td>Longdefinition                  </td><td>... per student in the given level of education, expressed as a percentage of GDP per capita....                                                                       </td></tr>\n<tr><td>SE.XPD.PRIM.PC.ZS</td><td>Government expenditure per student, primary (% of GDP per capita)   </td><td>Statisticalconceptandmethodology</td><td>...by the number of students at primary level, expressed as a percentage of GDP per capita. Aggregate data are World Bank estimates....                                </td></tr>\n<tr><td>SE.XPD.SECO.PC.ZS</td><td>Government expenditure per student, secondary (% of GDP per capita) </td><td>IndicatorName                   </td><td>Government expenditure per student, secondary (% of GDP per capita)                                                                                                    </td></tr>\n<tr><td>SE.XPD.SECO.PC.ZS</td><td>Government expenditure per student, secondary (% of GDP per capita) </td><td>Longdefinition                  </td><td>... per student in the given level of education, expressed as a percentage of GDP per capita....                                                                       </td></tr>\n<tr><td>SE.XPD.SECO.PC.ZS</td><td>Government expenditure per student, secondary (% of GDP per capita) </td><td>Statisticalconceptandmethodology</td><td>...by the number of students at secondary level, expressed as a percentage of GDP per capita. Aggregate data are World Bank estimates....                              </td></tr>\n<tr><td>SE.XPD.TERT.PC.ZS</td><td>Government expenditure per student, tertiary (% of GDP per capita)  </td><td>IndicatorName                   </td><td>Government expenditure per student, tertiary (% of GDP per capita)                                                                                                     </td></tr>\n<tr><td>SE.XPD.TERT.PC.ZS</td><td>Government expenditure per student, tertiary (% of GDP per capita)  </td><td>Longdefinition                  </td><td>... per student in the given level of education, expressed as a percentage of GDP per capita....                                                                       </td></tr>\n<tr><td>SE.XPD.TERT.PC.ZS</td><td>Government expenditure per student, tertiary (% of GDP per capita)  </td><td>Statisticalconceptandmethodology</td><td>...by the number of students at tertiary level, expressed as a percentage of GDP per capita. Aggregate data are World Bank estimates....                               </td></tr>\n<tr><td>SE.XPD.TOTL.PC.ZS</td><td>Expenditure per student, total (% of GDP per capita)                </td><td>IndicatorName                   </td><td>Expenditure per student, total (% of GDP per capita)                                                                                                                   </td></tr>\n<tr><td>SE.XPD.TOTL.PC.ZS</td><td>Expenditure per student, total (% of GDP per capita)                </td><td>Longdefinition                  </td><td>...on education divided by the total number of students, as a percentage of GDP per capita. Public expenditure (current and capital) includes government spending on...</td></tr>\n</tbody>\n</table></div>"
     },
     "execution_count": 8,
     "metadata": {},
     "output_type": "execute_result"
    }
   ],
   "source": [
    "# search for the gpd per capita data\n",
    "wb.search(\"gdp per capita\")"
   ],
   "metadata": {
    "collapsed": false,
    "pycharm": {
     "name": "#%%\n"
    }
   }
  },
  {
   "cell_type": "code",
   "execution_count": 51,
   "outputs": [],
   "source": [
    "# Get gdp per capita data using WBG API\n",
    "GDP = wb.data.DataFrame('NY.GDP.PCAP.PP.CD', list(data['country code'].unique()))\n",
    "GDP['economy'] = GDP.index"
   ],
   "metadata": {
    "collapsed": false,
    "pycharm": {
     "name": "#%%\n"
    }
   }
  },
  {
   "cell_type": "code",
   "execution_count": 52,
   "outputs": [],
   "source": [
    "# Change the dataframe format and rename\n",
    "GDP = pd.melt(GDP, id_vars = 'economy',value_vars=list(GDP.columns))\n",
    "GDP = GDP.rename(columns={'economy': 'country code', 'variable':'year','value':'GDP per Capita'})"
   ],
   "metadata": {
    "collapsed": false,
    "pycharm": {
     "name": "#%%\n"
    }
   }
  },
  {
   "cell_type": "code",
   "execution_count": 53,
   "outputs": [],
   "source": [
    "# Rename the values in variable column, delete YR\n",
    "GDP['year'] = GDP['year'].str[2:]"
   ],
   "metadata": {
    "collapsed": false,
    "pycharm": {
     "name": "#%%\n"
    }
   }
  },
  {
   "cell_type": "code",
   "execution_count": 55,
   "outputs": [],
   "source": [
    "# merge the gdp data back to the original data\n",
    "data2 = pd.merge(data,GDP,on=['country code','year'], how='left')"
   ],
   "metadata": {
    "collapsed": false,
    "pycharm": {
     "name": "#%%\n"
    }
   }
  }
 ],
 "metadata": {
  "kernelspec": {
   "display_name": "Python 3",
   "language": "python",
   "name": "python3"
  },
  "language_info": {
   "codemirror_mode": {
    "name": "ipython",
    "version": 2
   },
   "file_extension": ".py",
   "mimetype": "text/x-python",
   "name": "python",
   "nbconvert_exporter": "python",
   "pygments_lexer": "ipython2",
   "version": "2.7.6"
  }
 },
 "nbformat": 4,
 "nbformat_minor": 0
}